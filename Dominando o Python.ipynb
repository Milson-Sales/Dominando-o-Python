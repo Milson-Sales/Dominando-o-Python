{
  "nbformat": 4,
  "nbformat_minor": 0,
  "metadata": {
    "colab": {
      "name": "Live 4 - Perdendo o Medo da Programação - Python Babysteps.ipynb",
      "provenance": [],
      "collapsed_sections": []
    },
    "kernelspec": {
      "name": "python3",
      "display_name": "Python 3"
    }
  },
  "cells": [
    {
      "cell_type": "markdown",
      "metadata": {
        "id": "FkGpI_1qoq9S"
      },
      "source": [
        "![alt text](https://encrypted-tbn0.gstatic.com/images?q=tbn%3AANd9GcTK4gQ9nhwHHaSXMHpeggWg7twwMCgb877smkRmtkmDeDoGF9Z6&usqp=CAU)"
      ]
    },
    {
      "cell_type": "markdown",
      "metadata": {
        "id": "xWCLP1z9-Rlo"
      },
      "source": [
        "![](https://cienciadosdados.com/images/Montanha_Estdio_Fotogrfico_Capa_para_Facebook.png)"
      ]
    },
    {
      "cell_type": "markdown",
      "metadata": {
        "id": "fOm97g_V9Mlw"
      },
      "source": [
        "# **Anteriormente**..."
      ]
    },
    {
      "cell_type": "code",
      "metadata": {
        "colab": {
          "base_uri": "https://localhost:8080/",
          "height": 281
        },
        "outputId": "eccdef65-fceb-416c-fb1d-ae61be5cb91d",
        "id": "ArkSVAiA9UFS"
      },
      "source": [
        "from IPython.core.display import HTML\n",
        "HTML('<iframe width=\"460\" height=\"260\" src=\"https://www.youtube.com/embed/0SL8XfuS-Ig\" title=\"YouTube video player\" frameborder=\"0\" allow=\"accelerometer; autoplay; clipboard-write; encrypted-media; gyroscope; picture-in-picture\" allowfullscreen></iframe>')"
      ],
      "execution_count": null,
      "outputs": [
        {
          "output_type": "execute_result",
          "data": {
            "text/plain": [
              "<IPython.core.display.HTML object>"
            ],
            "text/html": [
              "<iframe width=\"460\" height=\"260\" src=\"https://www.youtube.com/embed/0SL8XfuS-Ig\" title=\"YouTube video player\" frameborder=\"0\" allow=\"accelerometer; autoplay; clipboard-write; encrypted-media; gyroscope; picture-in-picture\" allowfullscreen></iframe>"
            ]
          },
          "metadata": {},
          "execution_count": 2
        }
      ]
    },
    {
      "cell_type": "code",
      "metadata": {
        "colab": {
          "base_uri": "https://localhost:8080/",
          "height": 281
        },
        "outputId": "922aad64-02bc-4a6e-86a0-99088fed2b1c",
        "id": "Ovc_rBXo9UFc"
      },
      "source": [
        "from IPython.core.display import HTML\n",
        "HTML('<iframe width=\"460\" height=\"260\" src=\"https://www.youtube.com/embed/uT0UOmF0bmQ\" title=\"YouTube video player\" frameborder=\"0\" allow=\"accelerometer; autoplay; clipboard-write; encrypted-media; gyroscope; picture-in-picture\" allowfullscreen></iframe>')"
      ],
      "execution_count": null,
      "outputs": [
        {
          "output_type": "execute_result",
          "data": {
            "text/plain": [
              "<IPython.core.display.HTML object>"
            ],
            "text/html": [
              "<iframe width=\"460\" height=\"260\" src=\"https://www.youtube.com/embed/uT0UOmF0bmQ\" title=\"YouTube video player\" frameborder=\"0\" allow=\"accelerometer; autoplay; clipboard-write; encrypted-media; gyroscope; picture-in-picture\" allowfullscreen></iframe>"
            ]
          },
          "metadata": {},
          "execution_count": 1
        }
      ]
    },
    {
      "cell_type": "code",
      "metadata": {
        "colab": {
          "base_uri": "https://localhost:8080/",
          "height": 281
        },
        "outputId": "dd681d9c-11d6-4375-b367-473fc619777d",
        "id": "nvBfel809UFc"
      },
      "source": [
        "from IPython.core.display import HTML\n",
        "HTML('<iframe width=\"460\" height=\"260\" src=\"https://www.youtube.com/embed/HdUNHnGERBE\" title=\"YouTube video player\" frameborder=\"0\" allow=\"accelerometer; autoplay; clipboard-write; encrypted-media; gyroscope; picture-in-picture\" allowfullscreen></iframe>')"
      ],
      "execution_count": null,
      "outputs": [
        {
          "output_type": "execute_result",
          "data": {
            "text/plain": [
              "<IPython.core.display.HTML object>"
            ],
            "text/html": [
              "<iframe width=\"460\" height=\"260\" src=\"https://www.youtube.com/embed/HdUNHnGERBE\" title=\"YouTube video player\" frameborder=\"0\" allow=\"accelerometer; autoplay; clipboard-write; encrypted-media; gyroscope; picture-in-picture\" allowfullscreen></iframe>"
            ]
          },
          "metadata": {},
          "execution_count": 1
        }
      ]
    },
    {
      "cell_type": "code",
      "metadata": {
        "colab": {
          "base_uri": "https://localhost:8080/",
          "height": 281
        },
        "outputId": "9000dc39-d571-48ad-f1f3-e29df77184d2",
        "id": "FlMS6Xl39UFc"
      },
      "source": [
        "from IPython.core.display import HTML\n",
        "HTML('<iframe width=\"460\" height=\"260\" src=\"https://www.youtube.com/embed/PQSwu9EXFQk\" title=\"YouTube video player\" frameborder=\"0\" allow=\"accelerometer; autoplay; clipboard-write; encrypted-media; gyroscope; picture-in-picture\" allowfullscreen></iframe>')"
      ],
      "execution_count": null,
      "outputs": [
        {
          "output_type": "execute_result",
          "data": {
            "text/plain": [
              "<IPython.core.display.HTML object>"
            ],
            "text/html": [
              "<iframe width=\"460\" height=\"260\" src=\"https://www.youtube.com/embed/PQSwu9EXFQk\" title=\"YouTube video player\" frameborder=\"0\" allow=\"accelerometer; autoplay; clipboard-write; encrypted-media; gyroscope; picture-in-picture\" allowfullscreen></iframe>"
            ]
          },
          "metadata": {},
          "execution_count": 1
        }
      ]
    },
    {
      "cell_type": "markdown",
      "metadata": {
        "id": "rVoQ9w_nBOVU"
      },
      "source": [
        "## <font color='Blue'>**Python Básico Baby Steps**</font> \n"
      ]
    },
    {
      "cell_type": "markdown",
      "metadata": {
        "id": "FnYdYMEqHppZ"
      },
      "source": [
        "![](https://cienciadosdados.com/images/2021/Design_sem_nome_10.png)"
      ]
    },
    {
      "cell_type": "markdown",
      "metadata": {
        "id": "jFyOe0KCpgTm"
      },
      "source": [
        "##  Saber Python faz a diferença"
      ]
    },
    {
      "cell_type": "markdown",
      "metadata": {
        "id": "PYJ6CdlTL8h5"
      },
      "source": [
        "![](https://blog.hcltechsw.com/wp-content/uploads/2020/06/iot_1.gif)"
      ]
    },
    {
      "cell_type": "markdown",
      "metadata": {
        "id": "YIpa3X2KMBxQ"
      },
      "source": [
        "### Hoje em dia temos muitas facilidades. São muitos pacotes que nos auxiliam.\n",
        "\n",
        "* Conexão com Bancos de Dados\n",
        "* EDA\n",
        "* Processamento automatizado (catboost)\n",
        "* Pandas\n",
        "* Streamlit"
      ]
    },
    {
      "cell_type": "markdown",
      "metadata": {
        "id": "vHkB7m4JNGLV"
      },
      "source": [
        "## Vamos fazer um caso Prático Juntos? \n"
      ]
    },
    {
      "cell_type": "markdown",
      "metadata": {
        "id": "fvy6i28ZM_fQ"
      },
      "source": [
        "Fonte de dados:\n",
        "\n",
        "https://archive.ics.uci.edu/ml/datasets/bank+marketing"
      ]
    },
    {
      "cell_type": "code",
      "source": [
        "from google.colab import drive\n",
        "drive.mount('/content/drive')"
      ],
      "metadata": {
        "colab": {
          "base_uri": "https://localhost:8080/"
        },
        "id": "ezyZ542vS0GS",
        "outputId": "c429ce46-8a11-4612-c8c4-9dc6c4ebf59f"
      },
      "execution_count": 2,
      "outputs": [
        {
          "output_type": "stream",
          "name": "stdout",
          "text": [
            "Mounted at /content/drive\n"
          ]
        }
      ]
    },
    {
      "cell_type": "markdown",
      "metadata": {
        "id": "GN16iPDfKycm"
      },
      "source": [
        "## Agora com funcionalidades Aplicadas a Mais de 90% dos casos de Análise exploratória dos Dados"
      ]
    },
    {
      "cell_type": "markdown",
      "metadata": {
        "id": "_ST7P8uxWfTL"
      },
      "source": [
        "Importando o Dataset"
      ]
    },
    {
      "cell_type": "code",
      "metadata": {
        "id": "gb1rdZ0BXOBr"
      },
      "source": [
        "# importando pacotes\n",
        "import pandas as pd"
      ],
      "execution_count": 3,
      "outputs": []
    },
    {
      "cell_type": "code",
      "metadata": {
        "id": "m2-c3zhxVlk6"
      },
      "source": [
        "# Conectando com os Dados\n",
        "dataset = pd.read_csv('/content/drive/MyDrive/3. Conteúdos/Dados/bank-full.csv'   ,  delimiter=';')"
      ],
      "execution_count": 15,
      "outputs": []
    },
    {
      "cell_type": "code",
      "source": [
        "dataset"
      ],
      "metadata": {
        "id": "lQ2Dp7ao5Asn"
      },
      "execution_count": null,
      "outputs": []
    },
    {
      "cell_type": "code",
      "metadata": {
        "id": "MzWjYy66YdfR"
      },
      "source": [
        "# Conhecendo o dataset\n",
        "dataset.head(2)"
      ],
      "execution_count": null,
      "outputs": []
    },
    {
      "cell_type": "code",
      "metadata": {
        "id": "Dlm93ab5QWqF"
      },
      "source": [
        "# Informações do Dataset\n",
        "tabela.info()"
      ],
      "execution_count": null,
      "outputs": []
    },
    {
      "cell_type": "code",
      "metadata": {
        "id": "xruolGrf6u-a"
      },
      "source": [
        "# Dimensões do dataset\n",
        "tabela.shape"
      ],
      "execution_count": null,
      "outputs": []
    },
    {
      "cell_type": "code",
      "metadata": {
        "id": "4NtKb1bBZwRD"
      },
      "source": [
        "# Estatísticas Variáveis Contínuas\n",
        "tabela.describe()"
      ],
      "execution_count": null,
      "outputs": []
    },
    {
      "cell_type": "code",
      "metadata": {
        "id": "NboQQ-qGQMYj"
      },
      "source": [
        "# Frequência das Variáveis\n",
        "tabela.education.value_counts()"
      ],
      "execution_count": null,
      "outputs": []
    },
    {
      "cell_type": "code",
      "metadata": {
        "id": "NLpMgQZFRRVA"
      },
      "source": [
        "#Pacote Gráfico SEABORN\n",
        "%matplotlib inline\n",
        "import seaborn as sns\n",
        "graf = sns.countplot(data=tabela, x = 'education' , hue='y')"
      ],
      "execution_count": null,
      "outputs": []
    },
    {
      "cell_type": "code",
      "metadata": {
        "id": "8VPVIhOuR1sP"
      },
      "source": [
        "# Gráfico de Barras analisando variável categórica\n",
        "tabela.y.value_counts()\n",
        "sns.countplot(tabela['y'])"
      ],
      "execution_count": null,
      "outputs": []
    },
    {
      "cell_type": "code",
      "metadata": {
        "id": "JoVg22s8Taau"
      },
      "source": [
        "#Gráfico de Barras para Analisar Variáveis Contínuas\n",
        "sns.boxplot(x=tabela['balance'])"
      ],
      "execution_count": null,
      "outputs": []
    },
    {
      "cell_type": "markdown",
      "metadata": {
        "id": "tjk1wxriXjJR"
      },
      "source": [
        "## Jeito Errado de Encarar essa Primeira Etapa:\n"
      ]
    },
    {
      "cell_type": "markdown",
      "source": [
        "> Ficar Travado sem Praticar.\n",
        "\n",
        "![](https://thumbs.gfycat.com/FrightenedAngelicGopher-small.gif)\n",
        "\n",
        "\n",
        "\n"
      ],
      "metadata": {
        "id": "JGgIaGuJztV9"
      }
    },
    {
      "cell_type": "markdown",
      "source": [
        "# Agora é sua VEZ!\n",
        "![](http://1.bp.blogspot.com/--kaBjGapZa8/TxnwUzW38XI/AAAAAAAAAxM/J2ROPELbGu0/s1600/hands+on.jpg)"
      ],
      "metadata": {
        "id": "28d45vd09n2A"
      }
    },
    {
      "cell_type": "markdown",
      "source": [
        "> Refazer as mesmas Funções no Dataset \n",
        "\n",
        "* clientes_investimentos.xlsx"
      ],
      "metadata": {
        "id": "WtFJhSed9126"
      }
    },
    {
      "cell_type": "markdown",
      "source": [
        "#Fim!"
      ],
      "metadata": {
        "id": "W12GaCciS_8t"
      }
    },
    {
      "cell_type": "markdown",
      "metadata": {
        "id": "Rb8ReVePtXFL"
      },
      "source": [
        "# Links das Redes Sociais Ciência dos Dados\n",
        "\n",
        "# [LinkTree](https://linktr.ee/cienciadosdados)"
      ]
    },
    {
      "cell_type": "markdown",
      "source": [
        "![](https://cienciadosdados.com/images/Cpia_de_HEADER.png)"
      ],
      "metadata": {
        "id": "_VCZRZqlXSBg"
      }
    },
    {
      "cell_type": "markdown",
      "source": [
        "# Lives Aquecimento da <font color = Blue>Jornada Ciência de Dados "
      ],
      "metadata": {
        "id": "AUG9s28NWY27"
      }
    },
    {
      "cell_type": "markdown",
      "source": [
        "## Live 1"
      ],
      "metadata": {
        "id": "3PX-xr6KWzml"
      }
    },
    {
      "cell_type": "code",
      "metadata": {
        "colab": {
          "base_uri": "https://localhost:8080/",
          "height": 281
        },
        "id": "mK-Qv-7Etkbw",
        "outputId": "eccdef65-fceb-416c-fb1d-ae61be5cb91d"
      },
      "source": [
        "from IPython.core.display import HTML\n",
        "HTML('<iframe width=\"460\" height=\"260\" src=\"https://www.youtube.com/embed/0SL8XfuS-Ig\" title=\"YouTube video player\" frameborder=\"0\" allow=\"accelerometer; autoplay; clipboard-write; encrypted-media; gyroscope; picture-in-picture\" allowfullscreen></iframe>')"
      ],
      "execution_count": null,
      "outputs": [
        {
          "output_type": "execute_result",
          "data": {
            "text/plain": [
              "<IPython.core.display.HTML object>"
            ],
            "text/html": [
              "<iframe width=\"460\" height=\"260\" src=\"https://www.youtube.com/embed/0SL8XfuS-Ig\" title=\"YouTube video player\" frameborder=\"0\" allow=\"accelerometer; autoplay; clipboard-write; encrypted-media; gyroscope; picture-in-picture\" allowfullscreen></iframe>"
            ]
          },
          "metadata": {},
          "execution_count": 2
        }
      ]
    },
    {
      "cell_type": "markdown",
      "source": [
        "## Live 2"
      ],
      "metadata": {
        "id": "ISWZX1UvW1X7"
      }
    },
    {
      "cell_type": "code",
      "metadata": {
        "colab": {
          "base_uri": "https://localhost:8080/",
          "height": 281
        },
        "outputId": "922aad64-02bc-4a6e-86a0-99088fed2b1c",
        "id": "9ag4TLyUWnm7"
      },
      "source": [
        "from IPython.core.display import HTML\n",
        "HTML('<iframe width=\"460\" height=\"260\" src=\"https://www.youtube.com/embed/uT0UOmF0bmQ\" title=\"YouTube video player\" frameborder=\"0\" allow=\"accelerometer; autoplay; clipboard-write; encrypted-media; gyroscope; picture-in-picture\" allowfullscreen></iframe>')"
      ],
      "execution_count": null,
      "outputs": [
        {
          "output_type": "execute_result",
          "data": {
            "text/plain": [
              "<IPython.core.display.HTML object>"
            ],
            "text/html": [
              "<iframe width=\"460\" height=\"260\" src=\"https://www.youtube.com/embed/uT0UOmF0bmQ\" title=\"YouTube video player\" frameborder=\"0\" allow=\"accelerometer; autoplay; clipboard-write; encrypted-media; gyroscope; picture-in-picture\" allowfullscreen></iframe>"
            ]
          },
          "metadata": {},
          "execution_count": 1
        }
      ]
    },
    {
      "cell_type": "markdown",
      "source": [
        "## Live 3"
      ],
      "metadata": {
        "id": "1sbWC3Ug_Bk0"
      }
    },
    {
      "cell_type": "code",
      "metadata": {
        "colab": {
          "base_uri": "https://localhost:8080/",
          "height": 281
        },
        "outputId": "dd681d9c-11d6-4375-b367-473fc619777d",
        "id": "yDrZEMq4-xaD"
      },
      "source": [
        "from IPython.core.display import HTML\n",
        "HTML('<iframe width=\"460\" height=\"260\" src=\"https://www.youtube.com/embed/HdUNHnGERBE\" title=\"YouTube video player\" frameborder=\"0\" allow=\"accelerometer; autoplay; clipboard-write; encrypted-media; gyroscope; picture-in-picture\" allowfullscreen></iframe>')"
      ],
      "execution_count": null,
      "outputs": [
        {
          "output_type": "execute_result",
          "data": {
            "text/plain": [
              "<IPython.core.display.HTML object>"
            ],
            "text/html": [
              "<iframe width=\"460\" height=\"260\" src=\"https://www.youtube.com/embed/HdUNHnGERBE\" title=\"YouTube video player\" frameborder=\"0\" allow=\"accelerometer; autoplay; clipboard-write; encrypted-media; gyroscope; picture-in-picture\" allowfullscreen></iframe>"
            ]
          },
          "metadata": {},
          "execution_count": 1
        }
      ]
    },
    {
      "cell_type": "markdown",
      "source": [
        "## Live 4"
      ],
      "metadata": {
        "id": "-8vUuyhjyQut"
      }
    },
    {
      "cell_type": "code",
      "metadata": {
        "colab": {
          "base_uri": "https://localhost:8080/",
          "height": 281
        },
        "outputId": "9000dc39-d571-48ad-f1f3-e29df77184d2",
        "id": "rB8k9v9EyQvE"
      },
      "source": [
        "from IPython.core.display import HTML\n",
        "HTML('<iframe width=\"460\" height=\"260\" src=\"https://www.youtube.com/embed/PQSwu9EXFQk\" title=\"YouTube video player\" frameborder=\"0\" allow=\"accelerometer; autoplay; clipboard-write; encrypted-media; gyroscope; picture-in-picture\" allowfullscreen></iframe>')"
      ],
      "execution_count": null,
      "outputs": [
        {
          "output_type": "execute_result",
          "data": {
            "text/plain": [
              "<IPython.core.display.HTML object>"
            ],
            "text/html": [
              "<iframe width=\"460\" height=\"260\" src=\"https://www.youtube.com/embed/PQSwu9EXFQk\" title=\"YouTube video player\" frameborder=\"0\" allow=\"accelerometer; autoplay; clipboard-write; encrypted-media; gyroscope; picture-in-picture\" allowfullscreen></iframe>"
            ]
          },
          "metadata": {},
          "execution_count": 1
        }
      ]
    }
  ]
}